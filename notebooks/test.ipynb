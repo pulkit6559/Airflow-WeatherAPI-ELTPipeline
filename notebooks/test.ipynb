{
 "cells": [
  {
   "cell_type": "code",
   "execution_count": 37,
   "metadata": {},
   "outputs": [],
   "source": [
    "import requests\n",
    "import pandas as pd\n",
    "import geopandas\n",
    "from shapely.geometry import Polygon\n"
   ]
  },
  {
   "cell_type": "code",
   "execution_count": 27,
   "metadata": {},
   "outputs": [],
   "source": [
    "geopandas.options.io_engine = \"pyogrio\"\n"
   ]
  },
  {
   "cell_type": "code",
   "execution_count": 45,
   "metadata": {},
   "outputs": [],
   "source": [
    "germany_border = geopandas.read_file(r'..\\shapefiles\\de_10km.shx')\n",
    "\n",
    "# Convert the polygon to a MultiPolygon object\n",
    "# germany_boundary = Polygon(germany_border.iloc[0].geometry)"
   ]
  },
  {
   "cell_type": "code",
   "execution_count": 46,
   "metadata": {},
   "outputs": [
    {
     "data": {
      "text/html": [
       "<div>\n",
       "<style scoped>\n",
       "    .dataframe tbody tr th:only-of-type {\n",
       "        vertical-align: middle;\n",
       "    }\n",
       "\n",
       "    .dataframe tbody tr th {\n",
       "        vertical-align: top;\n",
       "    }\n",
       "\n",
       "    .dataframe thead th {\n",
       "        text-align: right;\n",
       "    }\n",
       "</style>\n",
       "<table border=\"1\" class=\"dataframe\">\n",
       "  <thead>\n",
       "    <tr style=\"text-align: right;\">\n",
       "      <th></th>\n",
       "      <th>geometry</th>\n",
       "    </tr>\n",
       "  </thead>\n",
       "  <tbody>\n",
       "    <tr>\n",
       "      <th>0</th>\n",
       "      <td>POLYGON ((3890000.000 3630000.000, 3890000.000...</td>\n",
       "    </tr>\n",
       "    <tr>\n",
       "      <th>1</th>\n",
       "      <td>POLYGON ((3890000.000 3640000.000, 3890000.000...</td>\n",
       "    </tr>\n",
       "    <tr>\n",
       "      <th>2</th>\n",
       "      <td>POLYGON ((3890000.000 3650000.000, 3890000.000...</td>\n",
       "    </tr>\n",
       "    <tr>\n",
       "      <th>3</th>\n",
       "      <td>POLYGON ((3890000.000 3660000.000, 3890000.000...</td>\n",
       "    </tr>\n",
       "    <tr>\n",
       "      <th>4</th>\n",
       "      <td>POLYGON ((3890000.000 3670000.000, 3890000.000...</td>\n",
       "    </tr>\n",
       "    <tr>\n",
       "      <th>...</th>\n",
       "      <td>...</td>\n",
       "    </tr>\n",
       "    <tr>\n",
       "      <th>4965</th>\n",
       "      <td>POLYGON ((4680000.000 3120000.000, 4680000.000...</td>\n",
       "    </tr>\n",
       "    <tr>\n",
       "      <th>4966</th>\n",
       "      <td>POLYGON ((4680000.000 3130000.000, 4680000.000...</td>\n",
       "    </tr>\n",
       "    <tr>\n",
       "      <th>4967</th>\n",
       "      <td>POLYGON ((4680000.000 3140000.000, 4680000.000...</td>\n",
       "    </tr>\n",
       "    <tr>\n",
       "      <th>4968</th>\n",
       "      <td>POLYGON ((4680000.000 3150000.000, 4680000.000...</td>\n",
       "    </tr>\n",
       "    <tr>\n",
       "      <th>4969</th>\n",
       "      <td>POLYGON ((4680000.000 3160000.000, 4680000.000...</td>\n",
       "    </tr>\n",
       "  </tbody>\n",
       "</table>\n",
       "<p>4970 rows × 1 columns</p>\n",
       "</div>"
      ],
      "text/plain": [
       "                                               geometry\n",
       "0     POLYGON ((3890000.000 3630000.000, 3890000.000...\n",
       "1     POLYGON ((3890000.000 3640000.000, 3890000.000...\n",
       "2     POLYGON ((3890000.000 3650000.000, 3890000.000...\n",
       "3     POLYGON ((3890000.000 3660000.000, 3890000.000...\n",
       "4     POLYGON ((3890000.000 3670000.000, 3890000.000...\n",
       "...                                                 ...\n",
       "4965  POLYGON ((4680000.000 3120000.000, 4680000.000...\n",
       "4966  POLYGON ((4680000.000 3130000.000, 4680000.000...\n",
       "4967  POLYGON ((4680000.000 3140000.000, 4680000.000...\n",
       "4968  POLYGON ((4680000.000 3150000.000, 4680000.000...\n",
       "4969  POLYGON ((4680000.000 3160000.000, 4680000.000...\n",
       "\n",
       "[4970 rows x 1 columns]"
      ]
     },
     "execution_count": 46,
     "metadata": {},
     "output_type": "execute_result"
    }
   ],
   "source": [
    "germany_border"
   ]
  },
  {
   "cell_type": "code",
   "execution_count": 41,
   "metadata": {},
   "outputs": [],
   "source": [
    "from shapely.geometry import Point"
   ]
  },
  {
   "cell_type": "code",
   "execution_count": 43,
   "metadata": {},
   "outputs": [
    {
     "data": {
      "text/plain": [
       "(False, False)"
      ]
     },
     "execution_count": 43,
     "metadata": {},
     "output_type": "execute_result"
    }
   ],
   "source": [
    "germany_boundary.contains(Point(24.2620,55.6090)), germany_boundary.contains(Point(48.7703,9.1825))"
   ]
  },
  {
   "cell_type": "code",
   "execution_count": 40,
   "metadata": {},
   "outputs": [],
   "source": [
    "# def is_point_in_germany(point):\n",
    "#     \"\"\"\n",
    "#     Return True if the point lies within Germany, False otherwise.\n",
    "#     \"\"\"\n",
    "#     germany = geopandas.GeoDataFrame(germany_boundary, crs=4326)\n",
    "#     point = Point(point[0], point[1])\n",
    "#     return contains(germany.unary_union, point)"
   ]
  },
  {
   "cell_type": "code",
   "execution_count": 3,
   "metadata": {},
   "outputs": [
    {
     "name": "stdout",
     "output_type": "stream",
     "text": [
      "this is a formattable str val\n"
     ]
    }
   ],
   "source": [
    "print(\"this is a formattable str {name}\".format(name=\"val\"))"
   ]
  },
  {
   "cell_type": "code",
   "execution_count": null,
   "metadata": {},
   "outputs": [],
   "source": []
  }
 ],
 "metadata": {
  "kernelspec": {
   "display_name": "Python 3",
   "language": "python",
   "name": "python3"
  },
  "language_info": {
   "codemirror_mode": {
    "name": "ipython",
    "version": 3
   },
   "file_extension": ".py",
   "mimetype": "text/x-python",
   "name": "python",
   "nbconvert_exporter": "python",
   "pygments_lexer": "ipython3",
   "version": "3.9.12"
  }
 },
 "nbformat": 4,
 "nbformat_minor": 2
}
